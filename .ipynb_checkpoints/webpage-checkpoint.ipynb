{
 "cells": [
  {
   "cell_type": "code",
   "execution_count": 20,
   "metadata": {},
   "outputs": [
    {
     "data": {
      "text/plain": [
       "True"
      ]
     },
     "execution_count": 20,
     "metadata": {},
     "output_type": "execute_result"
    }
   ],
   "source": [
    "import pymongo\n",
    "import webbrowser\n",
    "\n",
    "client = pymongo.MongoClient(\"mongodb://localhost:27017/\")\n",
    "mydb = client[\"MangaDB\"]\n",
    "mycol = mydb[\"anime_items\"]\n",
    "\n",
    "stud = []\n",
    "\n",
    "tbl = \"<tr><td>Type</td><td>Episodes</td><td>Note</td></tr>\"\n",
    "stud.append(tbl)\n",
    "\n",
    "for y in mycol.find():\n",
    "    a = \"<tr><td>%s</td>\"%y['type']\n",
    "    stud.append(a)\n",
    "    b = \"<td>%s</td>\"%y['episodes']\n",
    "    stud.append(b)\n",
    "    c = \"<td>%s</td></tr>\"%y['rating']\n",
    "    stud.append(c)\n",
    "\n",
    "contents = '''<!DOCTYPE html>\n",
    "<html>\n",
    "    <head>\n",
    "            <meta charset=\"utf-8\" />\n",
    "            <title>MANGA DB</title>\n",
    "\n",
    "            <style>\n",
    "                h1{\n",
    "                    color: black;\n",
    "                    text-align: center;\n",
    "                    font-family: Arial, Helvetica, sans-serif;\n",
    "                }\n",
    "            </style>\n",
    "\n",
    "    </head>\n",
    "\n",
    "        <body>\n",
    "            <img src=\"https://preview.redd.it/99nxlz8pte031.png?width=1920&format=png&auto=webp&s=7e0158219d0c96ccec30b35d9e58c346c45e7f88\"/>\n",
    "            <h1>MangaDB</h1>\n",
    "\n",
    "            <form name=\"search\" action=\"./form.py\" method=\"get\">\n",
    "                Type: <SELECT name=\"Type\" size=\"1\">\n",
    "                    <OPTION>TV<OPTION>Anime<OPTION>Manga<OPTION>OVA<OPTION>ONA<OPTION>Music<OPTION>Movie<OPTION>Special</SELECT>\n",
    "                Nombre d'episodes : <SELECT name=\"NbEp\" size=\"1\">\n",
    "                    <OPTION>1-10<OPTION>10-50<OPTION>50-10<OPTION>+100</SELECT>\n",
    "                Note : <input type=\"text\" name=\"note\">\n",
    "            <input type=\"submit\" value=\"Valider\">\n",
    "            </form>\n",
    "<table>\n",
    "%s\n",
    "</table>\n",
    "</body>\n",
    "</html>\n",
    "'''%(stud)\n",
    "\n",
    "filename = 'webbrowser.html'\n",
    "\n",
    "def main(contents, filename):\n",
    "    output = open(filename,\"w\")\n",
    "    output.write(contents)\n",
    "    output.close()\n",
    "\n",
    "main(contents, filename)\n",
    "webbrowser.open(filename)"
   ]
  },
  {
   "cell_type": "code",
   "execution_count": null,
   "metadata": {},
   "outputs": [],
   "source": []
  }
 ],
 "metadata": {
  "kernelspec": {
   "display_name": "Python 3",
   "language": "python",
   "name": "python3"
  },
  "language_info": {
   "codemirror_mode": {
    "name": "ipython",
    "version": 3
   },
   "file_extension": ".py",
   "mimetype": "text/x-python",
   "name": "python",
   "nbconvert_exporter": "python",
   "pygments_lexer": "ipython3",
   "version": "3.7.4"
  }
 },
 "nbformat": 4,
 "nbformat_minor": 2
}

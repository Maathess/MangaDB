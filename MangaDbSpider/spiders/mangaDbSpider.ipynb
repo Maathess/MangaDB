{
 "cells": [
  {
   "cell_type": "code",
   "execution_count": 2,
   "metadata": {},
   "outputs": [],
   "source": [
    "import string\n",
    "import scrapy\n",
    "from scrapy import Request"
   ]
  },
  {
   "cell_type": "markdown",
   "metadata": {},
   "source": [
    "## Website scrapping : (Extract)"
   ]
  },
  {
   "cell_type": "code",
   "execution_count": 4,
   "metadata": {},
   "outputs": [],
   "source": [
    "class MangaDbSpider(scrapy.Spider):\n",
    "    name = 'Manga'\n",
    "    start_urls = [\"https://myanimelist.net/anime.php\",]\n",
    "\n",
    "    def parse(self, response):\n",
    "        xp = \"//div[@id='horiznav_nav']//li/a/@href\"\n",
    "        return (Request(url, callback=self.parse_manga_list_page) for url in response.xpath(xp).extract())\n",
    "\n",
    "    def parse_manga_list_page(self, response):\n",
    "        for tr_sel in response.css('div.js-categories-seasonal tr ~ tr'):\n",
    "            yield {\n",
    "                \"title\":  tr_sel.css('a[id] strong::text').extract_first().strip(),\n",
    "                \"synopsis\": tr_sel.css(\"div.pt4::text\").extract_first(),\n",
    "                \"type_\": tr_sel.css('td:nth-child(3)::text').extract_first().strip(),\n",
    "                \"episodes\": tr_sel.css('td:nth-child(4)::text').extract_first().strip(), \n",
    "                \"rating\": tr_sel.css('td:nth-child(5)::text').extract_first().strip()\n",
    "            }\n",
    "            \n",
    "        next_urls = response.xpath(\"//div[@class='spaceit']//a/@href\").extract()\n",
    "        for next_url in next_urls:\n",
    "            yield Request(response.urljoin(next_url), callback=self.parse_anime_list_page)"
   ]
  },
  {
   "cell_type": "markdown",
   "metadata": {},
   "source": [
    "## Loading in Database : (Load)"
   ]
  },
  {
   "cell_type": "code",
   "execution_count": 3,
   "metadata": {},
   "outputs": [],
   "source": [
    "import pandas as pd\n",
    "import json\n",
    "import csv\n",
    "import pymongo"
   ]
  },
  {
   "cell_type": "code",
   "execution_count": 7,
   "metadata": {},
   "outputs": [],
   "source": [
    "#Importing the JSON file in DB\n",
    "\n",
    "client = pymongo.MongoClient()\n",
    "database = client['MangaDB']\n",
    "collection = database['test']"
   ]
  },
  {
   "cell_type": "code",
   "execution_count": 8,
   "metadata": {},
   "outputs": [
    {
     "data": {
      "text/html": [
       "<div>\n",
       "<style scoped>\n",
       "    .dataframe tbody tr th:only-of-type {\n",
       "        vertical-align: middle;\n",
       "    }\n",
       "\n",
       "    .dataframe tbody tr th {\n",
       "        vertical-align: top;\n",
       "    }\n",
       "\n",
       "    .dataframe thead th {\n",
       "        text-align: right;\n",
       "    }\n",
       "</style>\n",
       "<table border=\"1\" class=\"dataframe\">\n",
       "  <thead>\n",
       "    <tr style=\"text-align: right;\">\n",
       "      <th></th>\n",
       "      <th>title</th>\n",
       "      <th>synopsis</th>\n",
       "      <th>type_</th>\n",
       "      <th>episodes</th>\n",
       "      <th>rating</th>\n",
       "    </tr>\n",
       "  </thead>\n",
       "  <tbody>\n",
       "    <tr>\n",
       "      <th>0</th>\n",
       "      <td>-50kg no Cinderella</td>\n",
       "      <td>Hime, a chubby girl, is a university student w...</td>\n",
       "      <td>Manga</td>\n",
       "      <td>-</td>\n",
       "      <td>-</td>\n",
       "    </tr>\n",
       "    <tr>\n",
       "      <th>1</th>\n",
       "      <td>-6mm no Taboo</td>\n",
       "      <td>1. Half Moon 2. Private Gallery 3. Lover's Ret...</td>\n",
       "      <td>Manga</td>\n",
       "      <td>1</td>\n",
       "      <td>6.45</td>\n",
       "    </tr>\n",
       "    <tr>\n",
       "      <th>2</th>\n",
       "      <td>-Crow-</td>\n",
       "      <td>None</td>\n",
       "      <td>Manga</td>\n",
       "      <td>1</td>\n",
       "      <td>-</td>\n",
       "    </tr>\n",
       "    <tr>\n",
       "      <th>3</th>\n",
       "      <td>G</td>\n",
       "      <td>G takes place at these points we call boundari...</td>\n",
       "      <td>Manga</td>\n",
       "      <td>1</td>\n",
       "      <td>6.69</td>\n",
       "    </tr>\n",
       "    <tr>\n",
       "      <th>4</th>\n",
       "      <td>C Court</td>\n",
       "      <td>None</td>\n",
       "      <td>Manga</td>\n",
       "      <td>1</td>\n",
       "      <td>-</td>\n",
       "    </tr>\n",
       "  </tbody>\n",
       "</table>\n",
       "</div>"
      ],
      "text/plain": [
       "                 title                                           synopsis  \\\n",
       "0  -50kg no Cinderella  Hime, a chubby girl, is a university student w...   \n",
       "1        -6mm no Taboo  1. Half Moon 2. Private Gallery 3. Lover's Ret...   \n",
       "2               -Crow-                                               None   \n",
       "3                    G  G takes place at these points we call boundari...   \n",
       "4              C Court                                               None   \n",
       "\n",
       "   type_ episodes rating  \n",
       "0  Manga        -      -  \n",
       "1  Manga        1   6.45  \n",
       "2  Manga        1      -  \n",
       "3  Manga        1   6.69  \n",
       "4  Manga        1      -  "
      ]
     },
     "execution_count": 8,
     "metadata": {},
     "output_type": "execute_result"
    }
   ],
   "source": [
    "df = pd.read_json(\"test.json\")\n",
    "df.head()"
   ]
  },
  {
   "cell_type": "code",
   "execution_count": 9,
   "metadata": {
    "scrolled": false
   },
   "outputs": [
    {
     "data": {
      "text/html": [
       "<div>\n",
       "<style scoped>\n",
       "    .dataframe tbody tr th:only-of-type {\n",
       "        vertical-align: middle;\n",
       "    }\n",
       "\n",
       "    .dataframe tbody tr th {\n",
       "        vertical-align: top;\n",
       "    }\n",
       "\n",
       "    .dataframe thead th {\n",
       "        text-align: right;\n",
       "    }\n",
       "</style>\n",
       "<table border=\"1\" class=\"dataframe\">\n",
       "  <thead>\n",
       "    <tr style=\"text-align: right;\">\n",
       "      <th></th>\n",
       "      <th>title</th>\n",
       "      <th>synopsis</th>\n",
       "      <th>type_</th>\n",
       "      <th>episodes</th>\n",
       "      <th>rating</th>\n",
       "    </tr>\n",
       "  </thead>\n",
       "  <tbody>\n",
       "    <tr>\n",
       "      <th>0</th>\n",
       "      <td>-50kg no Cinderella</td>\n",
       "      <td>Hime, a chubby girl, is a university student w...</td>\n",
       "      <td>Manga</td>\n",
       "      <td>-</td>\n",
       "      <td>-</td>\n",
       "    </tr>\n",
       "    <tr>\n",
       "      <th>1</th>\n",
       "      <td>-6mm no Taboo</td>\n",
       "      <td>1. Half Moon 2. Private Gallery 3. Lover's Ret...</td>\n",
       "      <td>Manga</td>\n",
       "      <td>1</td>\n",
       "      <td>6.45</td>\n",
       "    </tr>\n",
       "    <tr>\n",
       "      <th>3</th>\n",
       "      <td>G</td>\n",
       "      <td>G takes place at these points we call boundari...</td>\n",
       "      <td>Manga</td>\n",
       "      <td>1</td>\n",
       "      <td>6.69</td>\n",
       "    </tr>\n",
       "    <tr>\n",
       "      <th>5</th>\n",
       "      <td>-Hitogatana-</td>\n",
       "      <td>In a world where it is possible to transfer hu...</td>\n",
       "      <td>Manga</td>\n",
       "      <td>-</td>\n",
       "      <td>7.27</td>\n",
       "    </tr>\n",
       "    <tr>\n",
       "      <th>7</th>\n",
       "      <td>-rain-</td>\n",
       "      <td>\"Because I love you.\" On a rainy day, when Mai...</td>\n",
       "      <td>One-shot</td>\n",
       "      <td>-</td>\n",
       "      <td>5.48</td>\n",
       "    </tr>\n",
       "  </tbody>\n",
       "</table>\n",
       "</div>"
      ],
      "text/plain": [
       "                 title                                           synopsis  \\\n",
       "0  -50kg no Cinderella  Hime, a chubby girl, is a university student w...   \n",
       "1        -6mm no Taboo  1. Half Moon 2. Private Gallery 3. Lover's Ret...   \n",
       "3                    G  G takes place at these points we call boundari...   \n",
       "5         -Hitogatana-  In a world where it is possible to transfer hu...   \n",
       "7               -rain-  \"Because I love you.\" On a rainy day, when Mai...   \n",
       "\n",
       "      type_ episodes rating  \n",
       "0     Manga        -      -  \n",
       "1     Manga        1   6.45  \n",
       "3     Manga        1   6.69  \n",
       "5     Manga        -   7.27  \n",
       "7  One-shot        -   5.48  "
      ]
     },
     "execution_count": 9,
     "metadata": {},
     "output_type": "execute_result"
    }
   ],
   "source": [
    "df = df.dropna()\n",
    "df.head()"
   ]
  },
  {
   "cell_type": "code",
   "execution_count": 10,
   "metadata": {},
   "outputs": [],
   "source": [
    "df.rename(columns={'ID':'_id'}, inplace=True)\n",
    "l_d =df.to_dict(orient='records')"
   ]
  },
  {
   "cell_type": "code",
   "execution_count": 12,
   "metadata": {},
   "outputs": [],
   "source": [
    "def clean_record(record):\n",
    "    return {k:v for k,v in record.items() if v}\n",
    "\n",
    "l_d = [clean_record(record) for record in l_d]"
   ]
  },
  {
   "cell_type": "code",
   "execution_count": 13,
   "metadata": {},
   "outputs": [
    {
     "data": {
      "text/plain": [
       "<pymongo.results.InsertManyResult at 0x238e92ea948>"
      ]
     },
     "execution_count": 13,
     "metadata": {},
     "output_type": "execute_result"
    }
   ],
   "source": [
    "collection.insert_many(l_d)"
   ]
  },
  {
   "cell_type": "markdown",
   "metadata": {},
   "source": [
    "### Import by pipelines"
   ]
  },
  {
   "cell_type": "code",
   "execution_count": null,
   "metadata": {},
   "outputs": [],
   "source": [
    "class MongoPipeline(object):\n",
    "\n",
    "    collection_name = 'manga_items'\n",
    "\n",
    "    def open_spider(self, spider):\n",
    "        self.client = pymongo.MongoClient()\n",
    "        self.db = self.client[\"MangaDB\"]\n",
    "\n",
    "    def close_spider(self, spider):\n",
    "        self.client.close()\n",
    "\n",
    "    def process_item(self, item, spider):\n",
    "        self.db[self.collection_name].insert_one(dict(item))\n",
    "        return item"
   ]
  },
  {
   "cell_type": "code",
   "execution_count": 8,
   "metadata": {},
   "outputs": [
    {
     "ename": "AttributeError",
     "evalue": "'NoneType' object has no attribute 'get'",
     "output_type": "error",
     "traceback": [
      "\u001b[1;31m---------------------------------------------------------------------------\u001b[0m",
      "\u001b[1;31mAttributeError\u001b[0m                            Traceback (most recent call last)",
      "\u001b[1;32m<ipython-input-8-eafee72196ad>\u001b[0m in \u001b[0;36m<module>\u001b[1;34m\u001b[0m\n\u001b[0;32m     16\u001b[0m             \u001b[0mresults\u001b[0m\u001b[1;33m.\u001b[0m\u001b[0mappend\u001b[0m\u001b[1;33m(\u001b[0m\u001b[0mname\u001b[0m\u001b[1;33m.\u001b[0m\u001b[0mget\u001b[0m\u001b[1;33m(\u001b[0m\u001b[0msource\u001b[0m\u001b[1;33m)\u001b[0m\u001b[1;33m)\u001b[0m\u001b[1;33m\u001b[0m\u001b[1;33m\u001b[0m\u001b[0m\n\u001b[0;32m     17\u001b[0m     \u001b[0mprint\u001b[0m\u001b[1;33m(\u001b[0m\u001b[0mresult\u001b[0m\u001b[1;33m)\u001b[0m\u001b[1;33m\u001b[0m\u001b[1;33m\u001b[0m\u001b[0m\n\u001b[1;32m---> 18\u001b[1;33m \u001b[0mparse_image_urls\u001b[0m\u001b[1;33m(\u001b[0m\u001b[1;34m\"hoverinfo_trigger\"\u001b[0m\u001b[1;33m,\u001b[0m \u001b[1;34m\"img\"\u001b[0m\u001b[1;33m,\u001b[0m \u001b[1;34m\"src\"\u001b[0m\u001b[1;33m)\u001b[0m\u001b[1;33m\u001b[0m\u001b[1;33m\u001b[0m\u001b[0m\n\u001b[0m",
      "\u001b[1;32m<ipython-input-8-eafee72196ad>\u001b[0m in \u001b[0;36mparse_image_urls\u001b[1;34m(classes, location, source)\u001b[0m\n\u001b[0;32m     14\u001b[0m         \u001b[0mname\u001b[0m \u001b[1;33m=\u001b[0m \u001b[0ma\u001b[0m\u001b[1;33m.\u001b[0m\u001b[0mfind\u001b[0m\u001b[1;33m(\u001b[0m\u001b[0mlocation\u001b[0m\u001b[1;33m)\u001b[0m\u001b[1;33m\u001b[0m\u001b[1;33m\u001b[0m\u001b[0m\n\u001b[0;32m     15\u001b[0m         \u001b[1;32mif\u001b[0m \u001b[0mname\u001b[0m \u001b[1;32mnot\u001b[0m \u001b[1;32min\u001b[0m \u001b[0mresults\u001b[0m\u001b[1;33m:\u001b[0m\u001b[1;33m\u001b[0m\u001b[1;33m\u001b[0m\u001b[0m\n\u001b[1;32m---> 16\u001b[1;33m             \u001b[0mresults\u001b[0m\u001b[1;33m.\u001b[0m\u001b[0mappend\u001b[0m\u001b[1;33m(\u001b[0m\u001b[0mname\u001b[0m\u001b[1;33m.\u001b[0m\u001b[0mget\u001b[0m\u001b[1;33m(\u001b[0m\u001b[0msource\u001b[0m\u001b[1;33m)\u001b[0m\u001b[1;33m)\u001b[0m\u001b[1;33m\u001b[0m\u001b[1;33m\u001b[0m\u001b[0m\n\u001b[0m\u001b[0;32m     17\u001b[0m     \u001b[0mprint\u001b[0m\u001b[1;33m(\u001b[0m\u001b[0mresult\u001b[0m\u001b[1;33m)\u001b[0m\u001b[1;33m\u001b[0m\u001b[1;33m\u001b[0m\u001b[0m\n\u001b[0;32m     18\u001b[0m \u001b[0mparse_image_urls\u001b[0m\u001b[1;33m(\u001b[0m\u001b[1;34m\"hoverinfo_trigger\"\u001b[0m\u001b[1;33m,\u001b[0m \u001b[1;34m\"img\"\u001b[0m\u001b[1;33m,\u001b[0m \u001b[1;34m\"src\"\u001b[0m\u001b[1;33m)\u001b[0m\u001b[1;33m\u001b[0m\u001b[1;33m\u001b[0m\u001b[0m\n",
      "\u001b[1;31mAttributeError\u001b[0m: 'NoneType' object has no attribute 'get'"
     ]
    }
   ],
   "source": [
    "###TEST GET IMAGE URL\n",
    "from bs4 import BeautifulSoup\n",
    "from selenium import webdriver\n",
    "\n",
    "driver = webdriver.Chrome(executable_path='./chromedriver.exe')\n",
    "driver.get('https://myanimelist.net/manga.php?letter=B')\n",
    "results = []\n",
    "content = driver.page_source\n",
    "soup = BeautifulSoup(content)\n",
    "\n",
    "\n",
    "def parse_image_urls(classes, location, source):\n",
    "    for a in soup.findAll(attrs={'class': classes}):\n",
    "        name = a.find(location)\n",
    "        if name not in results:\n",
    "            results.append(name.get(source))\n",
    "            \n",
    "parse_image_urls(\"hoverinfo_trigger\", \"img\", \"src\")"
   ]
  },
  {
   "cell_type": "code",
   "execution_count": null,
   "metadata": {},
   "outputs": [],
   "source": [
    "#scrapy runspider mangaDBSpider.py\n",
    "#scrapy crawl Manga -o mangaDB.json\n",
    "#scrapy crawl Manga"
   ]
  }
 ],
 "metadata": {
  "kernelspec": {
   "display_name": "Python 3",
   "language": "python",
   "name": "python3"
  },
  "language_info": {
   "codemirror_mode": {
    "name": "ipython",
    "version": 3
   },
   "file_extension": ".py",
   "mimetype": "text/x-python",
   "name": "python",
   "nbconvert_exporter": "python",
   "pygments_lexer": "ipython3",
   "version": "3.7.4"
  }
 },
 "nbformat": 4,
 "nbformat_minor": 2
}

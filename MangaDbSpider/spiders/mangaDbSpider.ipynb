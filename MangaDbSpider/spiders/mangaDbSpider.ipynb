{
 "cells": [
  {
   "cell_type": "code",
   "execution_count": 2,
   "metadata": {},
   "outputs": [],
   "source": [
    "import string\n",
    "import scrapy\n",
    "from scrapy import Request"
   ]
  },
  {
   "cell_type": "code",
   "execution_count": 4,
   "metadata": {},
   "outputs": [],
   "source": [
    "class MangaDbSpider(scrapy.Spider):\n",
    "    name = 'Manga'\n",
    "    start_urls = [\"https://myanimelist.net/manga.php\",]\n",
    "\n",
    "    def parse(self, response):\n",
    "        xp = \"//div[@id='horiznav_nav']//li/a/@href\"\n",
    "        return (Request(url, callback=self.parse_manga_list_page) for url in response.xpath(xp).extract())\n",
    "\n",
    "    def parse_manga_list_page(self, response):\n",
    "        for tr_sel in response.css('div.js-categories-seasonal tr ~ tr'):\n",
    "            yield {\n",
    "                \"title\":  tr_sel.css('a[id] strong::text').extract_first().strip(),\n",
    "                \"synopsis\": tr_sel.css(\"div.pt4::text\").extract_first(),\n",
    "                \"type_\": tr_sel.css('td:nth-child(3)::text').extract_first().strip(),\n",
    "                \"episodes\": tr_sel.css('td:nth-child(4)::text').extract_first().strip(), \n",
    "                \"rating\": tr_sel.css('td:nth-child(5)::text').extract_first().strip()\n",
    "            }\n",
    "            \n",
    "        next_urls = response.xpath(\"//div[@class='spaceit']//a/@href\").extract()\n",
    "        for next_url in next_urls:\n",
    "            yield Request(response.urljoin(next_url), callback=self.parse_anime_list_page)"
   ]
  },
  {
   "cell_type": "code",
   "execution_count": null,
   "metadata": {},
   "outputs": [],
   "source": []
  }
 ],
 "metadata": {
  "kernelspec": {
   "display_name": "Python 3",
   "language": "python",
   "name": "python3"
  },
  "language_info": {
   "codemirror_mode": {
    "name": "ipython",
    "version": 3
   },
   "file_extension": ".py",
   "mimetype": "text/x-python",
   "name": "python",
   "nbconvert_exporter": "python",
   "pygments_lexer": "ipython3",
   "version": "3.7.4"
  }
 },
 "nbformat": 4,
 "nbformat_minor": 2
}
